{
 "cells": [
  {
   "cell_type": "code",
   "execution_count": 1,
   "id": "69fd8780",
   "metadata": {
    "vscode": {
     "languageId": "python"
    }
   },
   "outputs": [
    {
     "ename": "",
     "evalue": "",
     "output_type": "error",
     "traceback": [
      "\u001b[1;31mThe Kernel crashed while executing code in the the current cell or a previous cell. Please review the code in the cell(s) to identify a possible cause of the failure. Click <a href='https://aka.ms/vscodeJupyterKernelCrash'>here</a> for more info. View Jupyter <a href='command:jupyter.viewOutput'>log</a> for further details."
     ]
    },
    {
     "ename": "",
     "evalue": "",
     "output_type": "error",
     "traceback": [
      "\u001b[1;31mCanceled future for execute_request message before replies were done"
     ]
    }
   ],
   "source": [
    "# required packages\n",
    "#!pip install pandas\n",
    "# hoi comment\n",
    "import os\n",
    "import pandas as pd\n",
    "import numpy as np\n",
    "import matplotlib.pyplot as plt\n",
    "from PIL import Image\n",
    "from IPython.display import clear_output\n",
    "import tensorflow as tf\n",
    "#from keras.applications.vgg19 import VGG19\n",
    "datapath = 'data/real_and_fake_face/'\n",
    "print(datapath)"
   ]
  },
  {
   "cell_type": "code",
   "execution_count": 83,
   "id": "e056ec85",
   "metadata": {
    "vscode": {
     "languageId": "python"
    }
   },
   "outputs": [
    {
     "name": "stdout",
     "output_type": "stream",
     "text": [
      "amount of images:  2041\n",
      "real images: 1081\n",
      "fake images: 960\n",
      "easy images: 240\n",
      "mid images: 480\n",
      "hard images: 240\n"
     ]
    }
   ],
   "source": [
    "#read the file names\n",
    "# and group them by feature into a dataframe\n",
    "f_temp = []\n",
    "for path, subdirs, files in os.walk(datapath):\n",
    "    for name in files:\n",
    "        full_path = os.path.join(path, name)\n",
    "        if name.startswith('real'):\n",
    "            f_temp.append([full_path, 'real', 'real', 0, 0, 0, 0])\n",
    "        elif name.startswith('easy') or name.startswith('mid') or name.startswith('hard'):\n",
    "            split_name = name.split('_')\n",
    "            label = 'fake'\n",
    "            category = split_name[0]\n",
    "            annotation = split_name[2]\n",
    "            annotation = annotation.split('.')[0]\n",
    "            if len(annotation) == 4:\n",
    "                f_temp.append([full_path, label, category, annotation[0], annotation[1], annotation[2], annotation[3]])                \n",
    "            else:\n",
    "                print(\"ERROR\")\n",
    "data = pd.DataFrame(f_temp, columns=['filename', 'label','category','left_eye','right_eye','nose','mouth'])\n",
    "print(\"amount of images: \", data.shape[0])\n",
    "print(f\"real images: {data[data['label']=='real'].shape[0]}\")\n",
    "print(f\"fake images: {data[data['label']=='fake'].shape[0]}\")\n",
    "print(f\"easy images: {data[data['category']=='easy'].shape[0]}\")\n",
    "print(f\"mid images: {data[data['category']=='mid'].shape[0]}\")\n",
    "print(f\"hard images: {data[data['category']=='hard'].shape[0]}\")\n",
    "\n",
    "\n"
   ]
  },
  {
   "cell_type": "code",
   "execution_count": null,
   "id": "1e2c8294",
   "metadata": {
    "vscode": {
     "languageId": "python"
    }
   },
   "outputs": [],
   "source": []
  }
 ],
 "metadata": {
  "kernelspec": {
   "display_name": "Python 3 (ipykernel)",
   "language": "python",
   "name": "python3"
  },
  "language_info": {
   "name": "",
   "version": ""
  }
 },
 "nbformat": 4,
 "nbformat_minor": 5
}
